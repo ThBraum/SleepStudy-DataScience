{
  "nbformat": 4,
  "nbformat_minor": 0,
  "metadata": {
    "colab": {
      "name": "SleepStudy.ipynb",
      "provenance": [],
      "collapsed_sections": [],
      "authorship_tag": "ABX9TyMZPyo6bh3eJXYia5Sw/zuO",
      "include_colab_link": true
    },
    "kernelspec": {
      "name": "python3",
      "display_name": "Python 3"
    }
  },
  "cells": [
    {
      "cell_type": "markdown",
      "metadata": {
        "id": "view-in-github",
        "colab_type": "text"
      },
      "source": [
        "<a href=\"https://colab.research.google.com/github/ThBraum/SleepStudy-DataScience/blob/main/SleepStudy.ipynb\" target=\"_parent\"><img src=\"https://colab.research.google.com/assets/colab-badge.svg\" alt=\"Open In Colab\"/></a>"
      ]
    },
    {
      "cell_type": "code",
      "metadata": {
        "id": "LLtvq7SZhHXr"
      },
      "source": [
        "import pandas as pd\n",
        "import seaborn as sns\n",
        "import matplotlib.pyplot as plt\n",
        "import numpy as np\n",
        "from sklearn.datasets import load_iris\n",
        "from sklearn.svm import SVC\n",
        "from sklearn.model_selection import cross_val_score"
      ],
      "execution_count": null,
      "outputs": []
    },
    {
      "cell_type": "code",
      "metadata": {
        "id": "r3zW3CFihVmV",
        "colab": {
          "base_uri": "https://localhost:8080/",
          "height": 33
        },
        "outputId": "13c430fd-8bab-4730-da2f-808b37af74bf"
      },
      "source": [
        "sst = pd.read_csv('SleepStudyData.csv')\n",
        "sst.head()\n",
        "sst.shape"
      ],
      "execution_count": null,
      "outputs": [
        {
          "output_type": "execute_result",
          "data": {
            "text/plain": [
              "(104, 6)"
            ]
          },
          "metadata": {
            "tags": []
          },
          "execution_count": 86
        }
      ]
    },
    {
      "cell_type": "code",
      "metadata": {
        "id": "FBT_r1jijkha",
        "colab": {
          "base_uri": "https://localhost:8080/",
          "height": 197
        },
        "outputId": "509bccb3-12c6-4557-8b46-59babff885d0"
      },
      "source": [
        "sst = sst.replace(np.NaN, 0)\n",
        "sst.replace(('Yes', 'No'), (1, 0), inplace=True)\n",
        "sst.head()"
      ],
      "execution_count": null,
      "outputs": [
        {
          "output_type": "execute_result",
          "data": {
            "text/html": [
              "<div>\n",
              "<style scoped>\n",
              "    .dataframe tbody tr th:only-of-type {\n",
              "        vertical-align: middle;\n",
              "    }\n",
              "\n",
              "    .dataframe tbody tr th {\n",
              "        vertical-align: top;\n",
              "    }\n",
              "\n",
              "    .dataframe thead th {\n",
              "        text-align: right;\n",
              "    }\n",
              "</style>\n",
              "<table border=\"1\" class=\"dataframe\">\n",
              "  <thead>\n",
              "    <tr style=\"text-align: right;\">\n",
              "      <th></th>\n",
              "      <th>Enough</th>\n",
              "      <th>Hours</th>\n",
              "      <th>PhoneReach</th>\n",
              "      <th>PhoneTime</th>\n",
              "      <th>Tired</th>\n",
              "      <th>Breakfast</th>\n",
              "    </tr>\n",
              "  </thead>\n",
              "  <tbody>\n",
              "    <tr>\n",
              "      <th>0</th>\n",
              "      <td>1</td>\n",
              "      <td>8.0</td>\n",
              "      <td>1</td>\n",
              "      <td>1</td>\n",
              "      <td>3</td>\n",
              "      <td>1</td>\n",
              "    </tr>\n",
              "    <tr>\n",
              "      <th>1</th>\n",
              "      <td>0</td>\n",
              "      <td>6.0</td>\n",
              "      <td>1</td>\n",
              "      <td>1</td>\n",
              "      <td>3</td>\n",
              "      <td>0</td>\n",
              "    </tr>\n",
              "    <tr>\n",
              "      <th>2</th>\n",
              "      <td>1</td>\n",
              "      <td>6.0</td>\n",
              "      <td>1</td>\n",
              "      <td>1</td>\n",
              "      <td>2</td>\n",
              "      <td>1</td>\n",
              "    </tr>\n",
              "    <tr>\n",
              "      <th>3</th>\n",
              "      <td>0</td>\n",
              "      <td>7.0</td>\n",
              "      <td>1</td>\n",
              "      <td>1</td>\n",
              "      <td>4</td>\n",
              "      <td>0</td>\n",
              "    </tr>\n",
              "    <tr>\n",
              "      <th>4</th>\n",
              "      <td>0</td>\n",
              "      <td>7.0</td>\n",
              "      <td>1</td>\n",
              "      <td>1</td>\n",
              "      <td>2</td>\n",
              "      <td>1</td>\n",
              "    </tr>\n",
              "  </tbody>\n",
              "</table>\n",
              "</div>"
            ],
            "text/plain": [
              "   Enough  Hours  PhoneReach  PhoneTime  Tired  Breakfast\n",
              "0       1    8.0           1          1      3          1\n",
              "1       0    6.0           1          1      3          0\n",
              "2       1    6.0           1          1      2          1\n",
              "3       0    7.0           1          1      4          0\n",
              "4       0    7.0           1          1      2          1"
            ]
          },
          "metadata": {
            "tags": []
          },
          "execution_count": 87
        }
      ]
    },
    {
      "cell_type": "code",
      "metadata": {
        "id": "vzYR0FJ1jtRt",
        "colab": {
          "base_uri": "https://localhost:8080/",
          "height": 438
        },
        "outputId": "5792411f-6091-45db-a277-16d9a10d8381"
      },
      "source": [
        "sns.factorplot(x='Enough', col='PhoneReach', kind='count', data=sst)"
      ],
      "execution_count": null,
      "outputs": [
        {
          "output_type": "stream",
          "text": [
            "/usr/local/lib/python3.6/dist-packages/seaborn/categorical.py:3666: UserWarning: The `factorplot` function has been renamed to `catplot`. The original name will be removed in a future release. Please update your code. Note that the default `kind` in `factorplot` (`'point'`) has changed `'strip'` in `catplot`.\n",
            "  warnings.warn(msg)\n"
          ],
          "name": "stderr"
        },
        {
          "output_type": "execute_result",
          "data": {
            "text/plain": [
              "<seaborn.axisgrid.FacetGrid at 0x7fa1c6c1ea20>"
            ]
          },
          "metadata": {
            "tags": []
          },
          "execution_count": 88
        },
        {
          "output_type": "display_data",
          "data": {
            "image/png": "[encoded data removed]",
            "text/plain": [
              "<Figure size 720x360 with 2 Axes>"
            ]
          },
          "metadata": {
            "tags": [],
            "needs_background": "light"
          }
        }
      ]
    },
    {
      "cell_type": "code",
      "metadata": {
        "id": "OSgg801bmDpj",
        "colab": {
          "base_uri": "https://localhost:8080/",
          "height": 438
        },
        "outputId": "68fa2889-7d58-4ad8-8e1e-116911fe3983"
      },
      "source": [
        "sns.factorplot(x='Enough', col='PhoneTime', kind='count', data=sst)"
      ],
      "execution_count": null,
      "outputs": [
        {
          "output_type": "stream",
          "text": [
            "/usr/local/lib/python3.6/dist-packages/seaborn/categorical.py:3666: UserWarning: The `factorplot` function has been renamed to `catplot`. The original name will be removed in a future release. Please update your code. Note that the default `kind` in `factorplot` (`'point'`) has changed `'strip'` in `catplot`.\n",
            "  warnings.warn(msg)\n"
          ],
          "name": "stderr"
        },
        {
          "output_type": "execute_result",
          "data": {
            "text/plain": [
              "<seaborn.axisgrid.FacetGrid at 0x7fa1c5f07d68>"
            ]
          },
          "metadata": {
            "tags": []
          },
          "execution_count": 89
        },
        {
          "output_type": "display_data",
          "data": {
            "image/png": "[encoded data removed]",
            "text/plain": [
              "<Figure size 720x360 with 2 Axes>"
            ]
          },
          "metadata": {
            "tags": [],
            "needs_background": "light"
          }
        }
      ]
    },
    {
      "cell_type": "code",
      "metadata": {
        "id": "jX5jEYqdkTle",
        "colab": {
          "base_uri": "https://localhost:8080/",
          "height": 438
        },
        "outputId": "6059fe90-f4bc-4105-cf68-67fe82d2e79d"
      },
      "source": [
        "sns.factorplot(x='Hours', col='Enough', kind='count', data=sst)"
      ],
      "execution_count": null,
      "outputs": [
        {
          "output_type": "stream",
          "text": [
            "/usr/local/lib/python3.6/dist-packages/seaborn/categorical.py:3666: UserWarning: The `factorplot` function has been renamed to `catplot`. The original name will be removed in a future release. Please update your code. Note that the default `kind` in `factorplot` (`'point'`) has changed `'strip'` in `catplot`.\n",
            "  warnings.warn(msg)\n"
          ],
          "name": "stderr"
        },
        {
          "output_type": "execute_result",
          "data": {
            "text/plain": [
              "<seaborn.axisgrid.FacetGrid at 0x7fa1c5e36978>"
            ]
          },
          "metadata": {
            "tags": []
          },
          "execution_count": 90
        },
        {
          "output_type": "display_data",
          "data": {
            "image/png": "[encoded data removed]",
            "text/plain": [
              "<Figure size 720x360 with 2 Axes>"
            ]
          },
          "metadata": {
            "tags": [],
            "needs_background": "light"
          }
        }
      ]
    },
    {
      "cell_type": "code",
      "metadata": {
        "id": "k-PCXfQllTm_",
        "colab": {
          "base_uri": "https://localhost:8080/",
          "height": 438
        },
        "outputId": "09433732-fefd-4aa0-d842-60b17728a2de"
      },
      "source": [
        "sns.factorplot(x='Breakfast', col='Enough', kind='count', data=sst)"
      ],
      "execution_count": null,
      "outputs": [
        {
          "output_type": "stream",
          "text": [
            "/usr/local/lib/python3.6/dist-packages/seaborn/categorical.py:3666: UserWarning: The `factorplot` function has been renamed to `catplot`. The original name will be removed in a future release. Please update your code. Note that the default `kind` in `factorplot` (`'point'`) has changed `'strip'` in `catplot`.\n",
            "  warnings.warn(msg)\n"
          ],
          "name": "stderr"
        },
        {
          "output_type": "execute_result",
          "data": {
            "text/plain": [
              "<seaborn.axisgrid.FacetGrid at 0x7fa1c5da3908>"
            ]
          },
          "metadata": {
            "tags": []
          },
          "execution_count": 91
        },
        {
          "output_type": "display_data",
          "data": {
            "image/png": "[encoded data removed]",
            "text/plain": [
              "<Figure size 720x360 with 2 Axes>"
            ]
          },
          "metadata": {
            "tags": [],
            "needs_background": "light"
          }
        }
      ]
    },
    {
      "cell_type": "code",
      "metadata": {
        "id": "OR2d54c1lg8m",
        "colab": {
          "base_uri": "https://localhost:8080/",
          "height": 438
        },
        "outputId": "5b3533e2-e3dd-4b8e-98e4-e39c9c43a27a"
      },
      "source": [
        "sns.factorplot(x='Tired', col='Enough', kind='count', data=sst)"
      ],
      "execution_count": null,
      "outputs": [
        {
          "output_type": "stream",
          "text": [
            "/usr/local/lib/python3.6/dist-packages/seaborn/categorical.py:3666: UserWarning: The `factorplot` function has been renamed to `catplot`. The original name will be removed in a future release. Please update your code. Note that the default `kind` in `factorplot` (`'point'`) has changed `'strip'` in `catplot`.\n",
            "  warnings.warn(msg)\n"
          ],
          "name": "stderr"
        },
        {
          "output_type": "execute_result",
          "data": {
            "text/plain": [
              "<seaborn.axisgrid.FacetGrid at 0x7fa1c5ca40f0>"
            ]
          },
          "metadata": {
            "tags": []
          },
          "execution_count": 92
        },
        {
          "output_type": "display_data",
          "data": {
            "image/png": "[encoded data removed]",
            "text/plain": [
              "<Figure size 720x360 with 2 Axes>"
            ]
          },
          "metadata": {
            "tags": [],
            "needs_background": "light"
          }
        }
      ]
    },
    {
      "cell_type": "markdown",
      "metadata": {
        "id": "7IzJJNck39s1"
      },
      "source": [
        "Naive Bayes"
      ]
    },
    {
      "cell_type": "code",
      "metadata": {
        "id": "PxGOKcwJlwMm"
      },
      "source": [
        "#modelo scikit\n",
        "from sklearn.naive_bayes import GaussianNB # 1 \n",
        "model_bayes = GaussianNB() #2hiperparâmetro"
      ],
      "execution_count": null,
      "outputs": []
    },
    {
      "cell_type": "code",
      "metadata": {
        "id": "agAiZbChl3YZ",
        "colab": {
          "base_uri": "https://localhost:8080/",
          "height": 33
        },
        "outputId": "12f9c818-3ec2-4d9e-f7d0-513421ea2c7d"
      },
      "source": [
        "sst.columns"
      ],
      "execution_count": null,
      "outputs": [
        {
          "output_type": "execute_result",
          "data": {
            "text/plain": [
              "Index(['Enough', 'Hours', 'PhoneReach', 'PhoneTime', 'Tired', 'Breakfast'], dtype='object')"
            ]
          },
          "metadata": {
            "tags": []
          },
          "execution_count": 94
        }
      ]
    },
    {
      "cell_type": "code",
      "metadata": {
        "id": "bRFkTYzalzGQ",
        "colab": {
          "base_uri": "https://localhost:8080/",
          "height": 197
        },
        "outputId": "7e2d197d-0ea3-4741-8c3e-7f91f6656b58"
      },
      "source": [
        "#feature matrix\n",
        "Xsst = sst.loc[: ,  [\"Hours\", \"PhoneReach\",\t\"PhoneTime\", \"Tired\"] ] # 3.1\n",
        "Xsst.head()"
      ],
      "execution_count": null,
      "outputs": [
        {
          "output_type": "execute_result",
          "data": {
            "text/html": [
              "<div>\n",
              "<style scoped>\n",
              "    .dataframe tbody tr th:only-of-type {\n",
              "        vertical-align: middle;\n",
              "    }\n",
              "\n",
              "    .dataframe tbody tr th {\n",
              "        vertical-align: top;\n",
              "    }\n",
              "\n",
              "    .dataframe thead th {\n",
              "        text-align: right;\n",
              "    }\n",
              "</style>\n",
              "<table border=\"1\" class=\"dataframe\">\n",
              "  <thead>\n",
              "    <tr style=\"text-align: right;\">\n",
              "      <th></th>\n",
              "      <th>Hours</th>\n",
              "      <th>PhoneReach</th>\n",
              "      <th>PhoneTime</th>\n",
              "      <th>Tired</th>\n",
              "    </tr>\n",
              "  </thead>\n",
              "  <tbody>\n",
              "    <tr>\n",
              "      <th>0</th>\n",
              "      <td>8.0</td>\n",
              "      <td>1</td>\n",
              "      <td>1</td>\n",
              "      <td>3</td>\n",
              "    </tr>\n",
              "    <tr>\n",
              "      <th>1</th>\n",
              "      <td>6.0</td>\n",
              "      <td>1</td>\n",
              "      <td>1</td>\n",
              "      <td>3</td>\n",
              "    </tr>\n",
              "    <tr>\n",
              "      <th>2</th>\n",
              "      <td>6.0</td>\n",
              "      <td>1</td>\n",
              "      <td>1</td>\n",
              "      <td>2</td>\n",
              "    </tr>\n",
              "    <tr>\n",
              "      <th>3</th>\n",
              "      <td>7.0</td>\n",
              "      <td>1</td>\n",
              "      <td>1</td>\n",
              "      <td>4</td>\n",
              "    </tr>\n",
              "    <tr>\n",
              "      <th>4</th>\n",
              "      <td>7.0</td>\n",
              "      <td>1</td>\n",
              "      <td>1</td>\n",
              "      <td>2</td>\n",
              "    </tr>\n",
              "  </tbody>\n",
              "</table>\n",
              "</div>"
            ],
            "text/plain": [
              "   Hours  PhoneReach  PhoneTime  Tired\n",
              "0    8.0           1          1      3\n",
              "1    6.0           1          1      3\n",
              "2    6.0           1          1      2\n",
              "3    7.0           1          1      4\n",
              "4    7.0           1          1      2"
            ]
          },
          "metadata": {
            "tags": []
          },
          "execution_count": 95
        }
      ]
    },
    {
      "cell_type": "code",
      "metadata": {
        "id": "xZgLL5pDmk9G",
        "colab": {
          "base_uri": "https://localhost:8080/",
          "height": 116
        },
        "outputId": "b4e0dc69-b256-475f-9d20-0f8b76326e67"
      },
      "source": [
        "Ysst = sst.Enough # 3.2 Target array\n",
        "Ysst.head()"
      ],
      "execution_count": null,
      "outputs": [
        {
          "output_type": "execute_result",
          "data": {
            "text/plain": [
              "0    1\n",
              "1    0\n",
              "2    1\n",
              "3    0\n",
              "4    0\n",
              "Name: Enough, dtype: int64"
            ]
          },
          "metadata": {
            "tags": []
          },
          "execution_count": 96
        }
      ]
    },
    {
      "cell_type": "code",
      "metadata": {
        "id": "nzaqIAMAmqz3"
      },
      "source": [
        "#separar banco de dados em banco de teste e treino\n",
        "from sklearn.model_selection import train_test_split\n",
        "train1, test1, train2, test2 = train_test_split(Xsst, Ysst, random_state=2020)"
      ],
      "execution_count": null,
      "outputs": []
    },
    {
      "cell_type": "code",
      "metadata": {
        "id": "DyfDc-DRms6N",
        "colab": {
          "base_uri": "https://localhost:8080/",
          "height": 33
        },
        "outputId": "87d6ade1-89ca-429f-a1a7-8b23cb0376c6"
      },
      "source": [
        "#ajuste do modelo\n",
        "model_bayes.fit(train1, train2) # 4"
      ],
      "execution_count": null,
      "outputs": [
        {
          "output_type": "execute_result",
          "data": {
            "text/plain": [
              "GaussianNB(priors=None, var_smoothing=1e-09)"
            ]
          },
          "metadata": {
            "tags": []
          },
          "execution_count": 98
        }
      ]
    },
    {
      "cell_type": "code",
      "metadata": {
        "id": "ddW0c95_nkCH",
        "colab": {
          "base_uri": "https://localhost:8080/",
          "height": 50
        },
        "outputId": "b643a11b-4c1b-4e4f-f7de-808fe58f0194"
      },
      "source": [
        "#aplicação do modelo\n",
        "m_bayes = model_bayes.predict(test1) # 5\n",
        "m_bayes"
      ],
      "execution_count": null,
      "outputs": [
        {
          "output_type": "execute_result",
          "data": {
            "text/plain": [
              "array([1, 0, 1, 0, 0, 1, 1, 0, 0, 0, 0, 1, 0, 0, 0, 0, 0, 0, 0, 1, 1, 1,\n",
              "       0, 0, 1, 0])"
            ]
          },
          "metadata": {
            "tags": []
          },
          "execution_count": 99
        }
      ]
    },
    {
      "cell_type": "code",
      "metadata": {
        "id": "zbaUvFyAnmbl",
        "colab": {
          "base_uri": "https://localhost:8080/",
          "height": 33
        },
        "outputId": "d0c9f1cb-3753-41ff-933c-762c76b784fe"
      },
      "source": [
        "\n",
        "from sklearn.metrics import accuracy_score\n",
        "accuracy_score(test2, m_bayes)"
      ],
      "execution_count": null,
      "outputs": [
        {
          "output_type": "execute_result",
          "data": {
            "text/plain": [
              "0.7692307692307693"
            ]
          },
          "metadata": {
            "tags": []
          },
          "execution_count": 100
        }
      ]
    },
    {
      "cell_type": "markdown",
      "metadata": {
        "id": "o-JdBq8l3suQ"
      },
      "source": [
        "Decision Tree"
      ]
    },
    {
      "cell_type": "code",
      "metadata": {
        "id": "H2nn8RtPnp1e",
        "colab": {
          "base_uri": "https://localhost:8080/",
          "height": 116
        },
        "outputId": "7a136c55-4bc2-44f8-a253-fb8f753edbe2"
      },
      "source": [
        "from sklearn.tree import DecisionTreeClassifier  # 1\n",
        "model_decision = DecisionTreeClassifier()       # 2\n",
        "                                                 # 3(Presente na Parte 1)  \n",
        "model_decision.fit(train1, train2) "
      ],
      "execution_count": null,
      "outputs": [
        {
          "output_type": "execute_result",
          "data": {
            "text/plain": [
              "DecisionTreeClassifier(ccp_alpha=0.0, class_weight=None, criterion='gini',\n",
              "                       max_depth=None, max_features=None, max_leaf_nodes=None,\n",
              "                       min_impurity_decrease=0.0, min_impurity_split=None,\n",
              "                       min_samples_leaf=1, min_samples_split=2,\n",
              "                       min_weight_fraction_leaf=0.0, presort='deprecated',\n",
              "                       random_state=None, splitter='best')"
            ]
          },
          "metadata": {
            "tags": []
          },
          "execution_count": 101
        }
      ]
    },
    {
      "cell_type": "code",
      "metadata": {
        "id": "l8QHcDqgnsGH",
        "colab": {
          "base_uri": "https://localhost:8080/",
          "height": 33
        },
        "outputId": "511787f5-bf8c-4a44-90b0-6add7c9789dd"
      },
      "source": [
        "Decision = model_decision.predict(test1) # 5\n",
        "accuracy_score(test2, Decision)"
      ],
      "execution_count": null,
      "outputs": [
        {
          "output_type": "execute_result",
          "data": {
            "text/plain": [
              "0.7692307692307693"
            ]
          },
          "metadata": {
            "tags": []
          },
          "execution_count": 102
        }
      ]
    },
    {
      "cell_type": "markdown",
      "metadata": {
        "id": "QqNaCnCt4GVa"
      },
      "source": [
        "Cross Validation/Neighbors"
      ]
    },
    {
      "cell_type": "code",
      "metadata": {
        "id": "qFTPl4JPnyAu",
        "colab": {
          "base_uri": "https://localhost:8080/",
          "height": 33
        },
        "outputId": "71345a1c-aa76-420a-a13f-8aa491725bce"
      },
      "source": [
        "from sklearn.model_selection import cross_val_score\n",
        "\n",
        "from sklearn.neighbors import KNeighborsClassifier\n",
        "model_neighbors = KNeighborsClassifier(n_neighbors=1)\n",
        "cross_val_score(model_neighbors, Xsst, Ysst, cv = 5)"
      ],
      "execution_count": null,
      "outputs": [
        {
          "output_type": "execute_result",
          "data": {
            "text/plain": [
              "array([0.47619048, 0.57142857, 0.66666667, 0.52380952, 0.75      ])"
            ]
          },
          "metadata": {
            "tags": []
          },
          "execution_count": 103
        }
      ]
    },
    {
      "cell_type": "code",
      "metadata": {
        "id": "M2JwfU8rn6j8",
        "colab": {
          "base_uri": "https://localhost:8080/",
          "height": 33
        },
        "outputId": "5df161d2-deda-4645-be5e-5a0e8922739e"
      },
      "source": [
        "model_bayes_cv = GaussianNB()                 # Hiperparâmetros e Instanciação\n",
        "cross_val_score(model_bayes_cv, Xsst, Ysst, cv = 5)"
      ],
      "execution_count": null,
      "outputs": [
        {
          "output_type": "execute_result",
          "data": {
            "text/plain": [
              "array([0.52380952, 0.66666667, 0.80952381, 0.85714286, 0.75      ])"
            ]
          },
          "metadata": {
            "tags": []
          },
          "execution_count": 104
        }
      ]
    },
    {
      "cell_type": "markdown",
      "metadata": {
        "id": "VGHSkMU94hFG"
      },
      "source": [
        "Leave one out"
      ]
    },
    {
      "cell_type": "code",
      "metadata": {
        "id": "galV3y-toBo8",
        "colab": {
          "base_uri": "https://localhost:8080/",
          "height": 33
        },
        "outputId": "8af82670-3986-4936-b52f-5036d6cad5f4"
      },
      "source": [
        "from sklearn.model_selection import LeaveOneOut\n",
        "scores = cross_val_score(model_bayes_cv, Xsst, Ysst, cv=LeaveOneOut())\n",
        "scores.mean()"
      ],
      "execution_count": null,
      "outputs": [
        {
          "output_type": "execute_result",
          "data": {
            "text/plain": [
              "0.7403846153846154"
            ]
          },
          "metadata": {
            "tags": []
          },
          "execution_count": 105
        }
      ]
    },
    {
      "cell_type": "code",
      "metadata": {
        "id": "8JmKO31e40IU",
        "colab": {
          "base_uri": "https://localhost:8080/",
          "height": 295
        },
        "outputId": "71d6e70a-d6af-47c4-ad54-bc6736738c5d"
      },
      "source": [
        "from sklearn.metrics import confusion_matrix\n",
        "mat_bayes = confusion_matrix(test2, m_bayes)\n",
        "sns.heatmap(mat_bayes, square=True, annot=True)\n",
        "plt.xlabel('Valores Preditos')\n",
        "plt.ylabel('Valores Reais')"
      ],
      "execution_count": null,
      "outputs": [
        {
          "output_type": "execute_result",
          "data": {
            "text/plain": [
              "Text(83.40000000000006, 0.5, 'Valores Reais')"
            ]
          },
          "metadata": {
            "tags": []
          },
          "execution_count": 106
        },
        {
          "output_type": "display_data",
          "data": {
            "image/png": "[encoded data removed]",
            "text/plain": [
              "<Figure size 432x288 with 2 Axes>"
            ]
          },
          "metadata": {
            "tags": [],
            "needs_background": "light"
          }
        }
      ]
    },
    {
      "cell_type": "markdown",
      "metadata": {
        "id": "0ANNEUc-4lac"
      },
      "source": [
        "Random Forest"
      ]
    },
    {
      "cell_type": "code",
      "metadata": {
        "id": "6GmlmmIdoHPk"
      },
      "source": [
        "from sklearn.ensemble import RandomForestClassifier   #1\n",
        "classifier_rf = RandomForestClassifier(random_state=1986, criterion='gini',\n",
        "                                       max_depth=10, n_estimators=50,\n",
        "                                       n_jobs=-1\n",
        "                                       )   #2"
      ],
      "execution_count": null,
      "outputs": []
    },
    {
      "cell_type": "code",
      "metadata": {
        "id": "C4Bgq4uioJVY",
        "colab": {
          "base_uri": "https://localhost:8080/",
          "height": 33
        },
        "outputId": "809c01ea-d35e-4038-b514-e71c7c7ba099"
      },
      "source": [
        "scores = cross_val_score(classifier_rf, train1, train2,\n",
        "                         scoring='accuracy', cv=5)\n",
        "scores.mean()"
      ],
      "execution_count": null,
      "outputs": [
        {
          "output_type": "execute_result",
          "data": {
            "text/plain": [
              "0.7291666666666667"
            ]
          },
          "metadata": {
            "tags": []
          },
          "execution_count": 108
        }
      ]
    },
    {
      "cell_type": "code",
      "metadata": {
        "id": "0evGtlGT9iGp"
      },
      "source": [
        "from sklearn.preprocessing import StandardScaler\n",
        "from sklearn.pipeline import Pipeline"
      ],
      "execution_count": null,
      "outputs": []
    },
    {
      "cell_type": "code",
      "metadata": {
        "id": "sp2eimCg9nk0",
        "colab": {
          "base_uri": "https://localhost:8080/",
          "height": 50
        },
        "outputId": "2bc12739-c400-4274-84b2-c6880499e265"
      },
      "source": [
        "standardScaler = StandardScaler()\n",
        "svm = SVC(kernel=\"linear\", C = 0.1)\n",
        "\n",
        "pipeline = Pipeline([('transformer', standardScaler), ('predictor', svm)])\n",
        "\n",
        "scores = cross_val_score(pipeline, Xsst, Ysst, cv=10, scoring=\"accuracy\")\n",
        "scores"
      ],
      "execution_count": null,
      "outputs": [
        {
          "output_type": "execute_result",
          "data": {
            "text/plain": [
              "array([0.63636364, 0.63636364, 0.81818182, 1.        , 0.8       ,\n",
              "       0.6       , 0.9       , 0.9       , 0.8       , 0.7       ])"
            ]
          },
          "metadata": {
            "tags": []
          },
          "execution_count": 111
        }
      ]
    },
    {
      "cell_type": "code",
      "metadata": {
        "id": "75EdhNvh-GYX",
        "colab": {
          "base_uri": "https://localhost:8080/",
          "height": 33
        },
        "outputId": "fb5ba507-423d-4d0a-9337-7c9b29ccc3c8"
      },
      "source": [
        "scores.mean()"
      ],
      "execution_count": null,
      "outputs": [
        {
          "output_type": "execute_result",
          "data": {
            "text/plain": [
              "0.7790909090909091"
            ]
          },
          "metadata": {
            "tags": []
          },
          "execution_count": 112
        }
      ]
    },
    {
      "cell_type": "code",
      "metadata": {
        "id": "FGDMh6rX-LHj"
      },
      "source": [
        "C_range = np.logspace(-2, 3, 8)\n",
        "C_scores = []"
      ],
      "execution_count": null,
      "outputs": []
    },
    {
      "cell_type": "code",
      "metadata": {
        "id": "Fz3m06RZ-NrO",
        "colab": {
          "base_uri": "https://localhost:8080/",
          "height": 66
        },
        "outputId": "38718040-2bf6-4bba-9bf2-a895c3859276"
      },
      "source": [
        "for C in C_range :\n",
        "  svm = SVC(kernel=\"linear\", C=C)\n",
        "  standardScaler = StandardScaler()\n",
        "  pipeline = Pipeline([('transformer', standardScaler), ('predictor', svm)])\n",
        "  score = cross_val_score(pipeline, Xsst, Ysst, cv=10, scoring=\"accuracy\")\n",
        "  C_scores.append(score.mean())\n",
        "\n",
        "print(C_range)\n",
        "print(C_scores)"
      ],
      "execution_count": null,
      "outputs": [
        {
          "output_type": "stream",
          "text": [
            "[1.00000000e-02 5.17947468e-02 2.68269580e-01 1.38949549e+00\n",
            " 7.19685673e+00 3.72759372e+01 1.93069773e+02 1.00000000e+03]\n",
            "[0.6545454545454545, 0.7690909090909092, 0.7518181818181818, 0.7427272727272728, 0.7527272727272727, 0.7627272727272728, 0.7527272727272728, 0.7527272727272727]\n"
          ],
          "name": "stdout"
        }
      ]
    },
    {
      "cell_type": "markdown",
      "metadata": {
        "id": "Yb8fZXFI--6S"
      },
      "source": [
        "Grid-Search"
      ]
    },
    {
      "cell_type": "code",
      "metadata": {
        "id": "LQMuxp0e_BIB"
      },
      "source": [
        "from sklearn.model_selection import GridSearchCV # Mais eficiente"
      ],
      "execution_count": null,
      "outputs": []
    },
    {
      "cell_type": "code",
      "metadata": {
        "id": "pDBFpi23AjZs",
        "colab": {
          "base_uri": "https://localhost:8080/",
          "height": 50
        },
        "outputId": "5a42d113-ecb8-400e-88a4-ac9e265c1bcc"
      },
      "source": [
        "C_range = np.logspace(-2, 3, 8)\n",
        "\n",
        "param_grid = dict(predictor__C = C_range)\n",
        "print(param_grid)"
      ],
      "execution_count": null,
      "outputs": [
        {
          "output_type": "stream",
          "text": [
            "{'predictor__C': array([1.00000000e-02, 5.17947468e-02, 2.68269580e-01, 1.38949549e+00,\n",
            "       7.19685673e+00, 3.72759372e+01, 1.93069773e+02, 1.00000000e+03])}\n"
          ],
          "name": "stdout"
        }
      ]
    },
    {
      "cell_type": "code",
      "metadata": {
        "id": "ekC5AaF9AlaS",
        "colab": {
          "base_uri": "https://localhost:8080/",
          "height": 383
        },
        "outputId": "60988f4f-f142-42c8-a1ad-820fa8b6c557"
      },
      "source": [
        "standardScaler = StandardScaler()\n",
        "svm = SVC(kernel=\"linear\", C=0.1)\n",
        "pipeline = Pipeline([('transformer', standardScaler), ('predictor', svm)])\n",
        "grid = GridSearchCV(pipeline, param_grid, cv=10, scoring='accuracy')\n",
        "grid.fit(Xsst, Ysst)\n"
      ],
      "execution_count": null,
      "outputs": [
        {
          "output_type": "execute_result",
          "data": {
            "text/plain": [
              "GridSearchCV(cv=10, error_score=nan,\n",
              "             estimator=Pipeline(memory=None,\n",
              "                                steps=[('transformer',\n",
              "                                        StandardScaler(copy=True,\n",
              "                                                       with_mean=True,\n",
              "                                                       with_std=True)),\n",
              "                                       ('predictor',\n",
              "                                        SVC(C=0.1, break_ties=False,\n",
              "                                            cache_size=200, class_weight=None,\n",
              "                                            coef0=0.0,\n",
              "                                            decision_function_shape='ovr',\n",
              "                                            degree=3, gamma='scale',\n",
              "                                            kernel='linear', max_iter=-1,\n",
              "                                            probability=False,\n",
              "                                            random_state=None, shrinking=True,\n",
              "                                            tol=0.001, verbose=False))],\n",
              "                                verbose=False),\n",
              "             iid='deprecated', n_jobs=None,\n",
              "             param_grid={'predictor__C': array([1.00000000e-02, 5.17947468e-02, 2.68269580e-01, 1.38949549e+00,\n",
              "       7.19685673e+00, 3.72759372e+01, 1.93069773e+02, 1.00000000e+03])},\n",
              "             pre_dispatch='2*n_jobs', refit=True, return_train_score=False,\n",
              "             scoring='accuracy', verbose=0)"
            ]
          },
          "metadata": {
            "tags": []
          },
          "execution_count": 132
        }
      ]
    },
    {
      "cell_type": "code",
      "metadata": {
        "id": "FjQUm95dAqyq",
        "colab": {
          "base_uri": "https://localhost:8080/",
          "height": 50
        },
        "outputId": "ceeec8f6-d4a0-40bd-d30e-d337504b4de2"
      },
      "source": [
        "grid.cv_results_[\"mean_test_score\"]"
      ],
      "execution_count": null,
      "outputs": [
        {
          "output_type": "execute_result",
          "data": {
            "text/plain": [
              "array([0.65454545, 0.76909091, 0.75181818, 0.74272727, 0.75272727,\n",
              "       0.76272727, 0.75272727, 0.75272727])"
            ]
          },
          "metadata": {
            "tags": []
          },
          "execution_count": 133
        }
      ]
    },
    {
      "cell_type": "code",
      "metadata": {
        "id": "F3d0xKZWAtKO",
        "colab": {
          "base_uri": "https://localhost:8080/",
          "height": 150
        },
        "outputId": "a3670f15-3f3d-4721-bb43-321d498ffce6"
      },
      "source": [
        "grid.cv_results_[\"params\"]"
      ],
      "execution_count": null,
      "outputs": [
        {
          "output_type": "execute_result",
          "data": {
            "text/plain": [
              "[{'predictor__C': 0.01},\n",
              " {'predictor__C': 0.05179474679231213},\n",
              " {'predictor__C': 0.2682695795279726},\n",
              " {'predictor__C': 1.3894954943731375},\n",
              " {'predictor__C': 7.196856730011521},\n",
              " {'predictor__C': 37.27593720314942},\n",
              " {'predictor__C': 193.06977288832496},\n",
              " {'predictor__C': 1000.0}]"
            ]
          },
          "metadata": {
            "tags": []
          },
          "execution_count": 134
        }
      ]
    },
    {
      "cell_type": "code",
      "metadata": {
        "id": "cKB19YATAuXH",
        "colab": {
          "base_uri": "https://localhost:8080/",
          "height": 233
        },
        "outputId": "163bc9b5-33ee-49de-fc0f-d732bf20364c"
      },
      "source": [
        "print(grid.best_score_)\n",
        "print(grid.best_params_)\n",
        "print(grid.best_estimator_)\n",
        "#grid.predict()"
      ],
      "execution_count": null,
      "outputs": [
        {
          "output_type": "stream",
          "text": [
            "0.7690909090909092\n",
            "{'predictor__C': 0.05179474679231213}\n",
            "Pipeline(memory=None,\n",
            "         steps=[('transformer',\n",
            "                 StandardScaler(copy=True, with_mean=True, with_std=True)),\n",
            "                ('predictor',\n",
            "                 SVC(C=0.05179474679231213, break_ties=False, cache_size=200,\n",
            "                     class_weight=None, coef0=0.0,\n",
            "                     decision_function_shape='ovr', degree=3, gamma='scale',\n",
            "                     kernel='linear', max_iter=-1, probability=False,\n",
            "                     random_state=None, shrinking=True, tol=0.001,\n",
            "                     verbose=False))],\n",
            "         verbose=False)\n"
          ],
          "name": "stdout"
        }
      ]
    },
    {
      "cell_type": "markdown",
      "metadata": {
        "id": "pgf4kCHZAzz5"
      },
      "source": [
        "Random-Search"
      ]
    },
    {
      "cell_type": "code",
      "metadata": {
        "id": "4hlD_-NFA5IL"
      },
      "source": [
        "from sklearn.model_selection import RandomizedSearchCV"
      ],
      "execution_count": null,
      "outputs": []
    },
    {
      "cell_type": "code",
      "metadata": {
        "id": "a-qCYrmABBm8",
        "colab": {
          "base_uri": "https://localhost:8080/",
          "height": 383
        },
        "outputId": "bc9dc9d7-cb82-438d-aaae-c73b97cf4ffc"
      },
      "source": [
        "# Criar pipeline\n",
        "standardScaler = StandardScaler()\n",
        "svm = SVC(kernel=\"rbf\", C = 0.1, gamma = 0.1)\n",
        "pipeline = Pipeline([('transformer', standardScaler), \n",
        "                     ('predictor', svm)])\n",
        "\n",
        "# Definir intervalo de valores\n",
        "param_dist = dict(\n",
        "    predictor__gamma = np.logspace(-3, 3, 8),\n",
        "    predictor__C     = np.logspace(-2, 3, 8)\n",
        ")\n",
        "\n",
        "rand = RandomizedSearchCV(pipeline, param_dist, cv=10, \n",
        "                          n_iter = 10, random_state = 2020,\n",
        "                          scoring='accuracy')\n",
        "rand.fit(Xsst, Ysst)"
      ],
      "execution_count": null,
      "outputs": [
        {
          "output_type": "execute_result",
          "data": {
            "text/plain": [
              "RandomizedSearchCV(cv=10, error_score=nan,\n",
              "                   estimator=Pipeline(memory=None,\n",
              "                                      steps=[('transformer',\n",
              "                                              StandardScaler(copy=True,\n",
              "                                                             with_mean=True,\n",
              "                                                             with_std=True)),\n",
              "                                             ('predictor',\n",
              "                                              SVC(C=0.1, break_ties=False,\n",
              "                                                  cache_size=200,\n",
              "                                                  class_weight=None, coef0=0.0,\n",
              "                                                  decision_function_shape='ovr',\n",
              "                                                  degree=3, gamma=0.1,\n",
              "                                                  kernel='rbf', max_iter=-1,\n",
              "                                                  probability=False,\n",
              "                                                  random_state=None,\n",
              "                                                  shrinki...\n",
              "                   param_distributions={'predictor__C': array([1.00000000e-02, 5.17947468e-02, 2.68269580e-01, 1.38949549e+00,\n",
              "       7.19685673e+00, 3.72759372e+01, 1.93069773e+02, 1.00000000e+03]),\n",
              "                                        'predictor__gamma': array([1.00000000e-03, 7.19685673e-03, 5.17947468e-02, 3.72759372e-01,\n",
              "       2.68269580e+00, 1.93069773e+01, 1.38949549e+02, 1.00000000e+03])},\n",
              "                   pre_dispatch='2*n_jobs', random_state=2020, refit=True,\n",
              "                   return_train_score=False, scoring='accuracy', verbose=0)"
            ]
          },
          "metadata": {
            "tags": []
          },
          "execution_count": 137
        }
      ]
    },
    {
      "cell_type": "code",
      "metadata": {
        "id": "m5U8GZz4BGX-",
        "colab": {
          "base_uri": "https://localhost:8080/",
          "height": 50
        },
        "outputId": "7e9ee76d-f8ba-4351-87c6-f47fa52c3f49"
      },
      "source": [
        "rand.cv_results_[\"mean_test_score\"]"
      ],
      "execution_count": null,
      "outputs": [
        {
          "output_type": "execute_result",
          "data": {
            "text/plain": [
              "array([0.65454545, 0.68454545, 0.70454545, 0.67363636, 0.65454545,\n",
              "       0.72090909, 0.77909091, 0.72090909, 0.65454545, 0.69272727])"
            ]
          },
          "metadata": {
            "tags": []
          },
          "execution_count": 138
        }
      ]
    },
    {
      "cell_type": "code",
      "metadata": {
        "id": "gqq_5p4PBIuC",
        "colab": {
          "base_uri": "https://localhost:8080/",
          "height": 50
        },
        "outputId": "56938338-7f98-4218-d215-c1fbff973341"
      },
      "source": [
        "print(rand.best_score_)\n",
        "print(rand.best_params_)"
      ],
      "execution_count": null,
      "outputs": [
        {
          "output_type": "stream",
          "text": [
            "0.7790909090909091\n",
            "{'predictor__gamma': 0.0071968567300115215, 'predictor__C': 7.196856730011521}\n"
          ],
          "name": "stdout"
        }
      ]
    },
    {
      "cell_type": "markdown",
      "metadata": {
        "id": "KKL7pcpXBV4N"
      },
      "source": [
        "Comparando com o GridSearch"
      ]
    },
    {
      "cell_type": "code",
      "metadata": {
        "id": "PGu075QOBYrS",
        "colab": {
          "base_uri": "https://localhost:8080/",
          "height": 233
        },
        "outputId": "7bda53d6-e284-4d55-e4cc-c577c370657d"
      },
      "source": [
        "grid = GridSearchCV(pipeline, param_grid=param_dist, \n",
        "                    cv = 10, scoring = \"accuracy\")\n",
        "grid.fit(Xsst, Ysst)\n",
        "grid.cv_results_['mean_test_score']"
      ],
      "execution_count": null,
      "outputs": [
        {
          "output_type": "execute_result",
          "data": {
            "text/plain": [
              "array([0.65454545, 0.65454545, 0.65454545, 0.65454545, 0.65454545,\n",
              "       0.65454545, 0.65454545, 0.65454545, 0.65454545, 0.65454545,\n",
              "       0.65454545, 0.65454545, 0.65454545, 0.65454545, 0.65454545,\n",
              "       0.65454545, 0.65454545, 0.65454545, 0.65454545, 0.65454545,\n",
              "       0.64454545, 0.64454545, 0.64454545, 0.64454545, 0.65454545,\n",
              "       0.65454545, 0.76      , 0.69454545, 0.69363636, 0.72090909,\n",
              "       0.72090909, 0.72090909, 0.65454545, 0.77909091, 0.71363636,\n",
              "       0.67454545, 0.67363636, 0.72090909, 0.72090909, 0.72090909,\n",
              "       0.78818182, 0.73181818, 0.70454545, 0.69272727, 0.67363636,\n",
              "       0.72090909, 0.72090909, 0.72090909, 0.74181818, 0.68454545,\n",
              "       0.66454545, 0.70181818, 0.67363636, 0.72090909, 0.72090909,\n",
              "       0.72090909, 0.73272727, 0.72363636, 0.66363636, 0.70181818,\n",
              "       0.67363636, 0.72090909, 0.72090909, 0.72090909])"
            ]
          },
          "metadata": {
            "tags": []
          },
          "execution_count": 142
        }
      ]
    },
    {
      "cell_type": "code",
      "metadata": {
        "id": "SWb3YLKSBenk",
        "colab": {
          "base_uri": "https://localhost:8080/",
          "height": 50
        },
        "outputId": "2b733613-5da5-4dbf-8a79-8b2574f3927e"
      },
      "source": [
        "print(grid.best_score_)\n",
        "print(grid.best_params_)"
      ],
      "execution_count": null,
      "outputs": [
        {
          "output_type": "stream",
          "text": [
            "0.7881818181818183\n",
            "{'predictor__C': 37.27593720314942, 'predictor__gamma': 0.001}\n"
          ],
          "name": "stdout"
        }
      ]
    }
  ]
}